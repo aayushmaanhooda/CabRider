{
 "cells": [
  {
   "cell_type": "markdown",
   "id": "da872c45-c370-49f6-b73c-93c8b935cacc",
   "metadata": {},
   "source": [
    "# Cab Rider Data Analysis"
   ]
  },
  {
   "cell_type": "code",
   "execution_count": 1,
   "id": "e1a1adc0-6d6d-42f6-bc9e-7d2eefbd5e55",
   "metadata": {},
   "outputs": [],
   "source": [
    "#### Mean speed of all the rides\n",
    "#### Number of rides taken in february\n",
    "#### Number of rides where tip was more then $50\n",
    "#### Number of rides where rides where drop was JFK airport\n",
    "#### Most frequesnt pick up day of the week\n",
    "#### Most frequent pick up location code (top 3)\n"
   ]
  },
  {
   "cell_type": "code",
   "execution_count": 2,
   "id": "ca4f4f92-ee0d-4e9e-aba2-1969d7e64c07",
   "metadata": {},
   "outputs": [
    {
     "name": "stdout",
     "output_type": "stream",
     "text": [
      "[[2.016e+03 1.000e+00 1.000e+00 ... 1.165e+01 6.999e+01 1.000e+00]\n",
      " [2.016e+03 1.000e+00 1.000e+00 ... 8.000e+00 5.430e+01 1.000e+00]\n",
      " [2.016e+03 1.000e+00 1.000e+00 ... 0.000e+00 3.780e+01 2.000e+00]\n",
      " ...\n",
      " [2.016e+03 6.000e+00 3.000e+01 ... 5.000e+00 6.334e+01 1.000e+00]\n",
      " [2.016e+03 6.000e+00 3.000e+01 ... 8.950e+00 4.475e+01 1.000e+00]\n",
      " [2.016e+03 6.000e+00 3.000e+01 ... 0.000e+00 5.484e+01 2.000e+00]]\n",
      "(89560, 15)\n"
     ]
    }
   ],
   "source": [
    "import numpy as np\n",
    "taxi =np.genfromtxt('nyc_taxis.csv', delimiter=',' ,skip_header =True)\n",
    "print(taxi)\n",
    "print(taxi.shape)"
   ]
  },
  {
   "cell_type": "markdown",
   "id": "29075f1a-03ad-49bc-be79-8d7afab12470",
   "metadata": {},
   "source": [
    "## Mean speed of all the rides"
   ]
  },
  {
   "cell_type": "code",
   "execution_count": 3,
   "id": "fb45a08d-faac-42f3-a2a3-a6fe1c564483",
   "metadata": {},
   "outputs": [
    {
     "name": "stdout",
     "output_type": "stream",
     "text": [
      "speed of every car [37.11340206 38.58157895 31.27222982 ... 22.29907867 42.41551247\n",
      " 36.90473407]\n",
      "The mean speed is --> 32.243\n"
     ]
    }
   ],
   "source": [
    "speed = taxi[:, 7]/ (taxi[:, 8] / 3600)\n",
    "print(\"speed of every car\", speed)\n",
    "\n",
    "mean_speed = speed.mean()\n",
    "print(f\"The mean speed is --> {mean_speed:.3f}\")"
   ]
  },
  {
   "cell_type": "markdown",
   "id": "2dfcb97d-fb3f-40d2-a63f-52657e14ad49",
   "metadata": {},
   "source": [
    "## Number of rides taken in february"
   ]
  },
  {
   "cell_type": "code",
   "execution_count": 4,
   "id": "6f2464ad-c336-47fe-8c6f-6b16c6293c2f",
   "metadata": {},
   "outputs": [
    {
     "name": "stdout",
     "output_type": "stream",
     "text": [
      "[1 1 1 ... 6 6 6]\n",
      "[1 2 3 4 5 6]\n",
      "[13481 13333 15547 14810 16650 15739]\n",
      "Count of max occured month 16650\n",
      "argmax 4\n",
      "max 16650\n",
      "Month were maximum rides where taken 5\n",
      "Number of rides taken in februray 13333\n"
     ]
    }
   ],
   "source": [
    "# lets get pick up month column first\n",
    "month = taxi[:, 1].astype('int8')\n",
    "print(month)\n",
    "\n",
    "# let find most occured month by find unique and its count\n",
    "unique_values , count = np.unique(month, return_counts =True)\n",
    "print(unique_values)\n",
    "print(count)\n",
    "\n",
    "max_occured_month = max(count)\n",
    "print(\"Count of max occured month\", max_occured_month)\n",
    "\n",
    "print(\"argmax\", np.argmax(count))\n",
    "print(\"max\", np.max(count))\n",
    "\n",
    "# month_number = unique_values[count == max_occured_month]\n",
    "month_number = unique_values[np.argmax(count)]  # Get the unique month with the maximum count\n",
    "feb_rides = count[1]\n",
    "print(\"Month were maximum rides where taken\", month_number)\n",
    "print(\"Number of rides taken in februray\", feb_rides)\n",
    "\n",
    "\n"
   ]
  },
  {
   "cell_type": "markdown",
   "id": "268b54f5-e87e-4395-86b5-57382fa5f5e3",
   "metadata": {},
   "source": [
    "## Number of rides where tip was more then $50"
   ]
  },
  {
   "cell_type": "code",
   "execution_count": 10,
   "id": "a89cae4f-dc70-45d7-8c7e-b133c79e32a8",
   "metadata": {},
   "outputs": [
    {
     "name": "stdout",
     "output_type": "stream",
     "text": [
      "Tips column: [11.65  8.    0.   ...  5.    8.95  0.  ]\n",
      "Indices where tips > 50: (array([    5,  4297, 11711, 21710, 30961, 34929, 40974, 56485, 65532,\n",
      "       69438, 76157, 76409, 77228, 77312, 84142, 85732]),)\n",
      "Tip values greater than 50: [ 52.8   60.    59.34  80.    70.    60.    55.    65.    80.    62.\n",
      " 100.    58.    62.    75.7   60.    70.  ]\n",
      "Toal Rides where Tip value was greater than 50: 16\n"
     ]
    }
   ],
   "source": [
    "# Assuming tips is already extracted\n",
    "tips = taxi[:, 12]\n",
    "print(\"Tips column:\", tips)\n",
    "\n",
    "# Get indices where tips are greater than 50\n",
    "greater_than_fifty_indices = np.where(tips > 50)\n",
    "print(\"Indices where tips > 50:\", greater_than_fifty_indices)\n",
    "\n",
    "# Get the actual tips values corresponding to these indices\n",
    "greater_than_fifty_values = tips[greater_than_fifty_indices]\n",
    "print(\"Tip values greater than 50:\", greater_than_fifty_values)\n",
    "\n",
    "total = greater_than_fifty_values.shape[0]\n",
    "print(\"Toal Rides where Tip value was greater than 50:\", total)"
   ]
  },
  {
   "cell_type": "markdown",
   "id": "76619d8a-b756-4416-a870-fbd625b5e024",
   "metadata": {},
   "source": [
    "## Number of rides where rides where drop was JFK airport"
   ]
  },
  {
   "cell_type": "code",
   "execution_count": 37,
   "id": "c05525b5-fb3d-47f3-a364-339c45f026c3",
   "metadata": {},
   "outputs": [
    {
     "name": "stdout",
     "output_type": "stream",
     "text": [
      "[4. 1. 6. ... 4. 6. 0.]\n",
      "The unique values of drop_off [0. 1. 2. 3. 4. 5. 6. 7.]\n",
      "The unique values of drop_off [ 1043  9815 11832 16602 41130    63  9000    75]\n",
      "Maximum drop off took this year were 4.0\n",
      "Number of rides where rides where drop was JFK airport 11832\n"
     ]
    }
   ],
   "source": [
    "drop_off = taxi[:, 6]\n",
    "print(drop_off)\n",
    "\n",
    "unique_values , count = np.unique(drop_off, return_counts=True)\n",
    "\n",
    "print(\"The unique values of drop_off\", unique_values)\n",
    "print(\"The unique values of drop_off\", count)\n",
    "\n",
    "max_drop_off = unique_values[np.argmax(count)]\n",
    "print(\"Maximum drop off took this year were\", max_drop_off)\n",
    "\n",
    "code = 2\n",
    "jfk_drop = count[code]\n",
    "print(\"Number of rides where rides where drop was JFK airport\", jfk_drop)\n",
    "\n"
   ]
  },
  {
   "cell_type": "markdown",
   "id": "231e1575-59f8-45ea-af9c-5cfb481a02cf",
   "metadata": {},
   "source": [
    "## Most frequesnt pick up day of the week"
   ]
  },
  {
   "cell_type": "code",
   "execution_count": 24,
   "id": "a226e826-674c-47c6-b620-39aa163b9a3e",
   "metadata": {},
   "outputs": [
    {
     "name": "stdout",
     "output_type": "stream",
     "text": [
      "[ 1.  1.  1. ... 30. 30. 30.]\n",
      "The unique values of pick_up_day [ 1.  2.  3.  4.  5.  6.  7.  8.  9. 10. 11. 12. 13. 14. 15. 16. 17. 18.\n",
      " 19. 20. 21. 22. 23. 24. 25. 26. 27. 28. 29. 30. 31.]\n",
      "The unique values of pick_up_day [2953 2743 2921 2968 2841 2867 2855 3027 2815 3055 2955 2934 3009 2867\n",
      " 3375 3100 3142 3168 3086 2979 2867 3100 2473 2701 3166 2947 2942 2964\n",
      " 2956 2235 1549]\n",
      "Most frequesnt pick up day of the week 15\n"
     ]
    }
   ],
   "source": [
    "pick_up_day = taxi[:, 2]\n",
    "print(pick_up_day)\n",
    "\n",
    "unique_values , count = np.unique(pick_up_day, return_counts=True)\n",
    "\n",
    "print(\"The unique values of pick_up_day\", unique_values)\n",
    "print(\"The unique values of pick_up_day\", count)\n",
    "\n",
    "\n",
    "max_drop_off = unique_values[np.argmax(count)]\n",
    "print(\"Most frequesnt pick up day of the week\", max_drop_off.astype('int8'))\n"
   ]
  },
  {
   "cell_type": "markdown",
   "id": "a3fb1de4-2836-4f23-8627-dac1a6ca404a",
   "metadata": {},
   "source": [
    "## Most frequent pick up location code (top 3)"
   ]
  },
  {
   "cell_type": "code",
   "execution_count": 35,
   "id": "acdc4e95-ef0a-4643-ac33-0c20310355ce",
   "metadata": {},
   "outputs": [
    {
     "name": "stdout",
     "output_type": "stream",
     "text": [
      "[2. 2. 2. ... 2. 2. 2.]\n",
      "The unique values of pick_code [0. 1. 2. 3. 4. 6.]\n",
      "The unique values of pick_code [   14   418 29329 34223 25057   519]\n",
      "[3 2 4 5 1 0]\n",
      "Most frequent pick up location code (top 3) [3 2 4]\n"
     ]
    }
   ],
   "source": [
    "pick_code = taxi[:, 5]\n",
    "print(pick_code)\n",
    "\n",
    "\n",
    "unique_values , count = np.unique(pick_code, return_counts=True)\n",
    "\n",
    "print(\"The unique values of pick_code\", unique_values)\n",
    "print(\"The unique values of pick_code\", count)\n",
    "\n",
    "# Sort unique values by counts in descending order\n",
    "sorted_indices = np.argsort(-count)  # Negative for descending order\n",
    "top_3_indices = sorted_indices[:3]  # Get indices of the top 3\n",
    "\n",
    "print(sorted_indices)\n",
    "\n",
    "top_3_codes = unique_values[top_3_indices]\n",
    "\n",
    "print(\"Most frequent pick up location code (top 3)\", top_3_codes.astype('int8'))"
   ]
  },
  {
   "cell_type": "code",
   "execution_count": null,
   "id": "89193013-0590-4668-9c33-acec09de4983",
   "metadata": {},
   "outputs": [],
   "source": []
  }
 ],
 "metadata": {
  "kernelspec": {
   "display_name": "Python 3 (ipykernel)",
   "language": "python",
   "name": "python3"
  },
  "language_info": {
   "codemirror_mode": {
    "name": "ipython",
    "version": 3
   },
   "file_extension": ".py",
   "mimetype": "text/x-python",
   "name": "python",
   "nbconvert_exporter": "python",
   "pygments_lexer": "ipython3",
   "version": "3.12.3"
  }
 },
 "nbformat": 4,
 "nbformat_minor": 5
}
